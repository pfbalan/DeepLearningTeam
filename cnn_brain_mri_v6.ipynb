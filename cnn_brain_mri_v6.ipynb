{
 "cells": [
  {
   "cell_type": "code",
   "execution_count": 45,
   "metadata": {},
   "outputs": [],
   "source": [
    "import requests\n",
    "import zipfile\n",
    "import pandas as pd\n",
    "import numpy as np\n",
    "import os\n",
    "import nibabel\n",
    "import matplotlib.pyplot as plt\n",
    "import utils\n",
    "%matplotlib inline\n",
    "import tensorflow as tf\n",
    "from tensorflow.python.framework import ops\n",
    "\n",
    "from scipy.ndimage import zoom\n",
    "\n",
    "import pandas as pd\n",
    "import numpy as np\n",
    "import os\n",
    "import zipfile\n",
    "import shutil\n",
    "import math"
   ]
  },
  {
   "cell_type": "code",
   "execution_count": 46,
   "metadata": {},
   "outputs": [],
   "source": [
    "data_dir = \"/Users/zack/zack/deep_learning/gcp/\"\n",
    "train_img = np.load(data_dir+\"train_img.npy\")\n",
    "train_age = np.load(data_dir+\"train_age.npy\")\n",
    "train_sex = np.load(data_dir+\"train_sex.npy\")\n",
    "train_label = np.load(data_dir+\"train_label.npy\")\n",
    "\n",
    "val_img = np.load(data_dir+\"val_img.npy\")\n",
    "val_age = np.load(data_dir+\"val_age.npy\")\n",
    "val_sex = np.load(data_dir+\"val_sex.npy\")\n",
    "val_label = np.load(data_dir+\"val_label.npy\")\n",
    "\n",
    "#one-hot encoder for label\n",
    "train_label = pd.get_dummies(train_label.squeeze()).values\n",
    "val_label = pd.get_dummies(val_label.squeeze()).values"
   ]
  },
  {
   "cell_type": "code",
   "execution_count": 47,
   "metadata": {},
   "outputs": [
    {
     "name": "stdout",
     "output_type": "stream",
     "text": [
      "['fs_t1/OAS30001_MR_d0129.nii.gz' 'fs_t1/OAS30001_MR_d0757.nii.gz'] (2,) (2,) [[1 0 0 0 0 0]\n",
      " [1 0 0 0 0 0]]\n",
      "['fs_t1/OAS30945_MR_d0155.nii.gz'] (1,) (1,) [[1 0 0 0 0 0]]\n"
     ]
    }
   ],
   "source": [
    "#here I use 2 images as sample data\n",
    "train_img = train_img[:2]\n",
    "train_age = train_age[:2]\n",
    "train_sex = train_sex[:2]\n",
    "train_label = train_label[:2]\n",
    "\n",
    "print(train_img,train_age.shape,train_sex.shape,train_label)\n",
    "\n",
    "#get validation data\n",
    "val_img = val_img[:1]\n",
    "val_age = val_age[:1]\n",
    "val_sex = val_sex[:1]\n",
    "val_label = val_label[:1]\n",
    "\n",
    "print(val_img,val_age.shape,val_sex.shape,val_label)"
   ]
  },
  {
   "cell_type": "code",
   "execution_count": 48,
   "metadata": {},
   "outputs": [],
   "source": [
    "#add a new axis to age and sex\n",
    "train_age = train_age.reshape(-1,1)\n",
    "train_sex = train_sex.reshape(-11,1)\n",
    "val_age = val_age.reshape(-1,1)\n",
    "val_sex = val_sex.reshape(-1,1)"
   ]
  },
  {
   "cell_type": "code",
   "execution_count": 49,
   "metadata": {},
   "outputs": [
    {
     "name": "stdout",
     "output_type": "stream",
     "text": [
      "(2, 128, 128, 128) (2, 6)\n"
     ]
    }
   ],
   "source": [
    "#get trainning data\n",
    "X_train = np.zeros((1,128,128,128))\n",
    "data_path = '/Users/zack/zack/deep_learning/gcp/'\n",
    "for image in train_img:\n",
    "    X_train = np.append(X_train,zoom(nibabel.load(data_path + image).get_data(),(0.5, 0.5, 0.5))[np.newaxis,:],axis=0)\n",
    "#get rid of the first zero \n",
    "X_train = X_train[1:]\n",
    "#assign Y_train as train_label\n",
    "Y_train = train_label\n",
    "print(X_train.shape,train_label.shape)"
   ]
  },
  {
   "cell_type": "code",
   "execution_count": 50,
   "metadata": {},
   "outputs": [
    {
     "name": "stdout",
     "output_type": "stream",
     "text": [
      "(1, 128, 128, 128) (1, 6)\n"
     ]
    }
   ],
   "source": [
    "#get the test data\n",
    "X_test = np.zeros((1,128,128,128))\n",
    "data_path = '/Users/zack/zack/deep_learning/gcp/'\n",
    "for image in val_img:\n",
    "    X_test = np.append(X_test,zoom(nibabel.load(data_path + image).get_data(),(0.5, 0.5, 0.5))[np.newaxis,:],axis=0)\n",
    "#get rid of the first zero \n",
    "X_test = X_test[1:]\n",
    "#assign Y_test as val_label\n",
    "Y_test = val_label\n",
    "print(X_test.shape,Y_test.shape)\n",
    "X_train /= 255\n",
    "X_test /= 255\n",
    "X_train = X_train[:,:,:,:,np.newaxis]\n",
    "X_test = X_test[:,:,:,:,np.newaxis]"
   ]
  },
  {
   "cell_type": "code",
   "execution_count": 51,
   "metadata": {},
   "outputs": [
    {
     "name": "stdout",
     "output_type": "stream",
     "text": [
      "(2, 128, 128, 128, 1) (2, 6) (2, 1) (2, 1)\n",
      "(1, 128, 128, 128, 1) (1, 6) (1, 1) (1, 1)\n"
     ]
    }
   ],
   "source": [
    "# train data :X_train, train_age, train_sex,Y_train\n",
    "# test data : X_test, val_age, val_sex, Y_test\n",
    "#2d -> 3d \n",
    "\n",
    "print(X_train.shape ,Y_train.shape, train_age.shape,train_sex.shape)\n",
    "print(X_test.shape,Y_test.shape,val_age.shape,val_sex.shape)"
   ]
  },
  {
   "cell_type": "markdown",
   "metadata": {},
   "source": [
    "# Model"
   ]
  },
  {
   "cell_type": "code",
   "execution_count": 56,
   "metadata": {},
   "outputs": [],
   "source": [
    "def create_placeholders(n_M0, n_H0, n_W0, n_C0, n_y):#create placeholders for X Y AGE SEX\n",
    "    \"\"\"\n",
    "    Arguments:\n",
    "    n_M0 -- scalar, how many image one second\n",
    "    n_H0 -- scalar, height of an input image\n",
    "    n_W0 -- scalar, width of an input image\n",
    "    n_C0 -- scalar, number of channels of the input\n",
    "    n_y -- scalar, number of classes\n",
    "    \"\"\"\n",
    "    X = tf.placeholder(tf.float32, shape=(None,n_M0,n_H0,n_W0,n_C0))\n",
    "    Y = tf.placeholder(tf.float32, shape=(None,n_y))\n",
    "    age = tf.placeholder(tf.float32, shape=(None,1))\n",
    "    sex = tf.placeholder(tf.float32, shape=(None,1))\n",
    "    return X, Y, age, sex\n",
    "\n",
    "def initialize_parameters():\n",
    "\n",
    "    tf.set_random_seed(1)                              # so that your \"random\" numbers match ours\n",
    "    W1 = tf.get_variable('W1',[4,4,4,1,8],initializer=tf.contrib.layers.xavier_initializer(seed = 0))\n",
    "    W2 = tf.get_variable('W2',[2,2,2,8,16],initializer=tf.contrib.layers.xavier_initializer(seed = 0))\n",
    "    parameters = {\"W1\": W1,\n",
    "                  \"W2\": W2}\n",
    "    return parameters\n",
    "\n",
    "def forward_propagation(X,age,sex, parameters):\n",
    "    \"\"\"\n",
    "    Implements the forward propagation for the model:\n",
    "    CONV3D -> RELU -> MAXPOOL -> CONV3D -> RELU -> MAXPOOL -> FLATTEN -> FULLYCONNECTED\n",
    "    \n",
    "    Arguments:\n",
    "    X -- input dataset placeholder, of shape (input size, number of examples)\n",
    "    parameters -- python dictionary containing your parameters \"W1\", \"W2\"\n",
    "                  the shapes are given in initialize_parameters\n",
    "\n",
    "    Returns:\n",
    "    Z3 -- the output of the last LINEAR unit\n",
    "    \"\"\"\n",
    "    # Retrieve the parameters from the dictionary \"parameters\" \n",
    "    W1 = parameters['W1']\n",
    "    W2 = parameters['W2']\n",
    "    \n",
    "\n",
    "    # CONV2D: stride of 1, padding 'SAME'\n",
    "    Z1 = tf.nn.conv3d(X,W1, strides = [1,1,1,1,1], padding = 'SAME')\n",
    "    # RELU\n",
    "    A1 = tf.nn.relu(Z1)\n",
    "    # MAXPOOL: window 8x8x8, sride 8, padding 'SAME'\n",
    "    P1 = tf.nn.max_pool3d(A1, ksize = [1,8,8,8,1], strides = [1,8,8,8,1], padding = 'SAME')\n",
    "    # CONV2D: filters W2, stride 1, padding 'SAME'\n",
    "    Z2 = tf.nn.conv3d(P1,W2,strides = [1,1,1,1,1],padding='SAME')\n",
    "    # RELU\n",
    "    A2 = tf.nn.relu(Z2)\n",
    "    # MAXPOOL: window 4x4, stride 4, padding 'SAME'\n",
    "    P2 = tf.nn.max_pool3d(A2,ksize = [1,4,4,4,1],strides=[1,4,4,4,1],padding='SAME')\n",
    "    # FLATTEN\n",
    "    P2 = tf.contrib.layers.flatten(P2)\n",
    "    \n",
    "    #Add gender and age into p2 layer\n",
    "    \n",
    "    age  = tf.layers.Flatten()(age)\n",
    "    sex = tf.layers.Flatten()(sex)\n",
    "    P2 = tf.concat([P2,age,sex],1)\n",
    "    \n",
    "    # FULLY-CONNECTED without non-linear activation function (not call softmax).\n",
    "    P2 = tf.layers.dense(inputs=P2, units=100, activation=tf.nn.relu)\n",
    "    \n",
    "    # 6 neurons in output layer. Hint: one of the arguments should be \"activation_fn=None\" \n",
    "    Z3 = tf.contrib.layers.fully_connected(P2, num_outputs = 6,activation_fn=None)\n",
    "\n",
    "    return Z3\n",
    "def compute_cost(Z3, Y):\n",
    "    \"\"\"\n",
    "    Computes the cost\n",
    "    \n",
    "    Arguments:\n",
    "    Z3 -- output of forward propagation (output of the last LINEAR unit), of shape (6, number of examples)\n",
    "    Y -- \"true\" labels vector placeholder, same shape as Z3\n",
    "    \n",
    "    Returns:\n",
    "    cost - Tensor of the cost function\n",
    "    \"\"\"\n",
    "    cost = tf.reduce_mean(tf.nn.softmax_cross_entropy_with_logits(logits = Z3, labels = Y))\n",
    "    return cost\n",
    "\n",
    "def random_mini_batches(X, Y,age,sex, mini_batch_size = 3, seed = 0):\n",
    "    np.random.seed(seed)            # To make your \"random\" minibatches the same as ours\n",
    "    m = X.shape[0]                  # number of training examples\n",
    "    mini_batches = []\n",
    "        \n",
    "    # Step 1: Shuffle (X, Y,age,sex)\n",
    "    permutation = list(np.random.permutation(m))\n",
    "    shuffled_X = X[permutation,:]\n",
    "    shuffled_Y = Y[permutation,:]\n",
    "    shuffled_age = age[permutation,:]\n",
    "    shuffled_sex = sex[permutation,:]\n",
    "\n",
    "    # Step 2: Partition (shuffled_X, shuffled_Y,shuffled_age,shuffled_sex). Minus the end case.\n",
    "    num_complete_minibatches = math.floor(m/mini_batch_size) # number of mini batches of size mini_batch_size in your partitionning\n",
    "    for k in range(0, num_complete_minibatches):\n",
    "      \n",
    "        mini_batch_X =  shuffled_X[mini_batch_size * k : (k+1) * mini_batch_size,:]\n",
    "        mini_batch_Y = shuffled_Y[mini_batch_size * k : (k+1) * mini_batch_size,:]\n",
    "        mini_batch_age = shuffled_age[mini_batch_size * k : (k+1) * mini_batch_size,:]\n",
    "        mini_batch_sex = shuffled_sex[mini_batch_size * k : (k+1) * mini_batch_size,:]\n",
    "       \n",
    "        mini_batch = (mini_batch_X, mini_batch_Y, mini_batch_age,mini_batch_sex)\n",
    "        mini_batches.append(mini_batch)\n",
    "    \n",
    "    # Handling the end case (last mini-batch < mini_batch_size)\n",
    "    if m % mini_batch_size != 0:\n",
    "\n",
    "        mini_batch_X = shuffled_X[num_complete_minibatches * mini_batch_size : ,: ]\n",
    "        mini_batch_Y = shuffled_Y[num_complete_minibatches * mini_batch_size : ,:]\n",
    "        mini_batch_age = shuffled_age[num_complete_minibatches * mini_batch_size : ,: ]\n",
    "        mini_batch_sex = shuffled_sex[num_complete_minibatches * mini_batch_size : ,: ]\n",
    "\n",
    "        mini_batch = (mini_batch_X, mini_batch_Y,mini_batch_age,mini_batch_sex)\n",
    "        mini_batches.append(mini_batch)\n",
    "    \n",
    "    return mini_batches\n",
    "\n",
    "def model(X_train, Y_train, train_age, train_sex,\n",
    "          X_test, Y_test, val_age, val_sex,\n",
    "          learning_rate = 0.009, num_epochs = 5, minibatch_size = 1, print_cost = True):\n",
    "    ops.reset_default_graph()                         \n",
    "    \n",
    "    tf.set_random_seed(1)                             # to keep results consistent (tensorflow seed)\n",
    "    seed = 3                                          # to keep results consistent (numpy seed)\n",
    "    (m,n_M0, n_H0, n_W0, n_C0) = X_train.shape             \n",
    "    n_y = Y_train.shape[1]                            \n",
    "    costs = [] \n",
    "    \n",
    "    X, Y, age, sex = create_placeholders(n_M0=n_M0, n_H0=n_H0, n_W0=n_W0, n_C0=n_C0, n_y=n_y)\n",
    "    parameters = initialize_parameters()\n",
    "    Z3 = forward_propagation(X,age,sex, parameters)\n",
    "    cost = compute_cost(Z3, Y)\n",
    "    optimizer = tf.train.AdamOptimizer(learning_rate=learning_rate).minimize(cost)\n",
    "    init = tf.global_variables_initializer()\n",
    "    with tf.Session() as sess:\n",
    "        sess.run(init)\n",
    "        for epoch in range(num_epochs):\n",
    "            \n",
    "            minibatch_cost = 0.\n",
    "            num_minibatches = int(m / minibatch_size) \n",
    "            seed = seed + 1\n",
    "            minibatches = random_mini_batches(X_train, Y_train,train_age,train_sex, minibatch_size, seed)\n",
    "\n",
    "\n",
    "            for minibatch in minibatches:\n",
    "                (minibatch_X, minibatch_Y, mini_batch_age,mini_batch_sex) = minibatch\n",
    "                _ , temp_cost = sess.run(optimizer,feed_dict={X:minibatch_X,Y:minibatch_Y,age:mini_batch_age,sex:mini_batch_sex}),sess.run(cost,feed_dict={X:minibatch_X,Y:minibatch_Y,age:mini_batch_age,sex:mini_batch_sex})\n",
    "                \n",
    "                minibatch_cost += temp_cost / num_minibatches\n",
    "            if print_cost == True and epoch % 1 == 0:\n",
    "                    print (\"Cost after epoch %i: %f\" % (epoch, minibatch_cost))\n",
    "            if print_cost == True and epoch % 1 == 0:\n",
    "                    costs.append(minibatch_cost)\n",
    "                \n",
    "                \n",
    "        plt.plot(np.squeeze(costs))\n",
    "        plt.ylabel('cost')\n",
    "        plt.xlabel('iterations (per tens)')\n",
    "        plt.title(\"Learning rate =\" + str(learning_rate))\n",
    "        plt.show()\n",
    "\n",
    "        # Calculate the correct predictions\n",
    "        predict_op = tf.argmax(Z3, 1)\n",
    "        correct_prediction = tf.equal(predict_op, tf.argmax(Y, 1))\n",
    "\n",
    "        # Calculate accuracy on the test set\n",
    "        accuracy = tf.reduce_mean(tf.cast(correct_prediction, \"float\"))\n",
    "        print(accuracy)\n",
    "        train_accuracy = accuracy.eval({X: X_train, Y: Y_train, age:train_age, sex:train_sex})\n",
    "        test_accuracy = accuracy.eval({X: X_test, Y: Y_test, age: val_age, sex: val_sex})\n",
    "        print(\"Train Accuracy:\", train_accuracy)\n",
    "        print(\"Test Accuracy:\", test_accuracy)\n",
    "\n",
    "        return train_accuracy, test_accuracy, parameters\n",
    "    "
   ]
  },
  {
   "cell_type": "code",
   "execution_count": 57,
   "metadata": {},
   "outputs": [
    {
     "name": "stdout",
     "output_type": "stream",
     "text": [
      "Cost after epoch 0: 0.132283\n",
      "Cost after epoch 1: 0.000000\n",
      "Cost after epoch 2: 0.000000\n",
      "Cost after epoch 3: 0.000000\n",
      "Cost after epoch 4: 0.000000\n"
     ]
    },
    {
     "data": {
      "image/png": "[encoded data removed]",
      "text/plain": [
       "<Figure size 432x288 with 1 Axes>"
      ]
     },
     "metadata": {},
     "output_type": "display_data"
    },
    {
     "name": "stdout",
     "output_type": "stream",
     "text": [
      "Tensor(\"Mean_1:0\", shape=(), dtype=float32)\n",
      "Train Accuracy: 1.0\n",
      "Test Accuracy: 1.0\n"
     ]
    }
   ],
   "source": [
    "_, _, parameters = model(X_train, Y_train,train_age,train_sex, X_test, Y_test,val_age,val_sex)"
   ]
  },
  {
   "cell_type": "code",
   "execution_count": null,
   "metadata": {},
   "outputs": [],
   "source": []
  }
 ],
 "metadata": {
  "kernelspec": {
   "display_name": "Python 3",
   "language": "python",
   "name": "python3"
  },
  "language_info": {
   "codemirror_mode": {
    "name": "ipython",
    "version": 3
   },
   "file_extension": ".py",
   "mimetype": "text/x-python",
   "name": "python",
   "nbconvert_exporter": "python",
   "pygments_lexer": "ipython3",
   "version": "3.6.5"
  }
 },
 "nbformat": 4,
 "nbformat_minor": 2
}
